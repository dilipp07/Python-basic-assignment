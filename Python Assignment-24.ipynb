{
 "cells": [
  {
   "cell_type": "markdown",
   "metadata": {},
   "source": [
    "# 1. What is the relationship between def statements and lambda expressions ?"
   ]
  },
  {
   "cell_type": "markdown",
   "metadata": {},
   "source": [
    "def statement is used to create a normal function. where as lamba expressions are used to create Anonymous functions. which can be assigned to a variable and can be called using the variable later in function.\n",
    "\n",
    "Lambda's body is a single expression and not a block of statements like def statement. The lambda expression's body is similar to what we'd put in a def body's return statement. We simply type the result as an expression instead of explicitly returning it. Because it is limited to an expression, a lambda is less general than a def statement."
   ]
  },
  {
   "cell_type": "markdown",
   "metadata": {},
   "source": [
    "# 2. What is the benefit of lambda?"
   ]
  },
  {
   "cell_type": "markdown",
   "metadata": {},
   "source": [
    "Can be used to create Nameless/Anonymous functions inside some complex functions if we are planning to use it only once. \n",
    "\n",
    "Moderate to small functions can be created in a single line\n",
    "\n",
    "Fuctions created using lambda expressions can be assigned to a variable and can be used by simply calling the variable"
   ]
  },
  {
   "cell_type": "markdown",
   "metadata": {},
   "source": [
    "# 3. Compare and contrast map, filter, and reduce."
   ]
  },
  {
   "cell_type": "markdown",
   "metadata": {},
   "source": [
    "map(): The map() function is a type of higher-order. This function takes another function as a parameter\n",
    "along with a sequence of iterables and returns an output after applying the function to each iterable present in the sequence.\n",
    "\n",
    "filter(): The filter() function is used to create an output list consisting of values for which the function returns true. \n",
    "\n",
    "reduce(): The reduce() function, as the name describes, applies a given function to the iterables and returns a single value"
   ]
  },
  {
   "cell_type": "code",
   "execution_count": 1,
   "metadata": {},
   "outputs": [
    {
     "name": "stdout",
     "output_type": "stream",
     "text": [
      "Map --- [2, 4, 6]\n",
      "Filter --- [1, 3]\n",
      "Reduce ---- 21\n"
     ]
    }
   ],
   "source": [
    "from functools import reduce\n",
    "# map function\n",
    "print('Map ---',list(map(lambda x:x+x, [1,2,3])))\n",
    "# fitler function\n",
    "print('Filter ---',list(filter(lambda x:x%2 !=0, [1,2,3])))\n",
    "# reduce function\n",
    "print('Reduce ----',reduce(lambda x,y:x+y, [1,2,3,4,5,6]))"
   ]
  },
  {
   "cell_type": "markdown",
   "metadata": {},
   "source": [
    "# 4. What are function annotations, and how are they used?"
   ]
  },
  {
   "cell_type": "markdown",
   "metadata": {},
   "source": [
    "Function annotations provide a way of associating various parts of a function with arbitrary pythoncexpressions at compile time.\n",
    "\n",
    "Annotations of simple parameters def func(x: expression, y: expression = 20):\n",
    "\n",
    "Whereas the annotations for excess parameters are as − def func (**args: expression, **kwargs: expression):"
   ]
  },
  {
   "cell_type": "markdown",
   "metadata": {},
   "source": [
    "# 5. What are recursive functions, and how are they used?"
   ]
  },
  {
   "cell_type": "markdown",
   "metadata": {},
   "source": [
    "Recursive functions are functions that call themselves during their execution. In other words, a recursive function is a function that solves a problem by reducing it to smaller instances of the same problem."
   ]
  },
  {
   "cell_type": "code",
   "execution_count": 2,
   "metadata": {},
   "outputs": [],
   "source": [
    "def factorial(n):\n",
    "    if n == 0:\n",
    "        return 1  # base case\n",
    "    else:\n",
    "        return n * factorial(n - 1)  # recursive case"
   ]
  },
  {
   "cell_type": "markdown",
   "metadata": {},
   "source": [
    "Recursive functions are useful in situations where a problem can be naturally divided into smaller, similar subproblems. They provide an elegant and concise way to solve such problems. Recursive approaches are often used in algorithms like tree traversals, graph traversals, sorting (e.g., merge sort, quicksort), and searching (e.g., binary search on a sorted list). However, it's important to design recursive functions carefully to ensure they terminate and avoid unnecessary overhead."
   ]
  },
  {
   "cell_type": "markdown",
   "metadata": {},
   "source": [
    "# 6. What are some general design guidelines for coding functions?"
   ]
  },
  {
   "cell_type": "markdown",
   "metadata": {},
   "source": [
    "Single Responsibility Principle (SRP): Functions should have a single, well-defined responsibility. Each function should perform a specific task or solve a specific problem. This makes the code more modular and easier to understand, test, and maintain.\n",
    "\n",
    "Keep functions small: Functions should be kept relatively small and focused. Ideally, a function should fit on a single screen without scrolling. Breaking down complex tasks into smaller functions improves readability and makes code easier to understand and debug.\n",
    "\n",
    "Meaningful names: Use descriptive and meaningful names for functions that accurately convey their purpose or what they do. Avoid generic names like \"processData\" or \"handleInput.\" Clear and concise names make the code self-explanatory and easier to read.\n",
    "\n",
    "Function parameters: Minimize the number of function parameters to avoid excessive complexity. If a function has too many parameters, it can be a sign that it's trying to do too much. Consider grouping related parameters into objects or structs for better readability.\n",
    "\n",
    "Avoid global state: Functions should generally rely on local state and input parameters rather than modifying global variables. Minimizing the use of global state improves the predictability and testability of functions, as their behavior becomes self-contained.\n",
    "\n",
    "Error handling: Handle errors and exceptions properly within functions. Make sure to communicate failures or exceptional cases through well-defined return values or exceptions. Proper error handling enhances the reliability and robustness of the code.\n",
    "\n",
    "Code reusability: Design functions to be reusable whenever possible. Identify common functionality that can be extracted into separate functions or utility modules. Reusable functions reduce code duplication and make it easier to maintain and update the codebase.\n",
    "\n",
    "Comments and documentation: Include clear and concise comments to explain the purpose, behavior, and usage of functions."
   ]
  },
  {
   "cell_type": "markdown",
   "metadata": {},
   "source": [
    "# 7. Name three or more ways that functions can communicate results to a caller."
   ]
  },
  {
   "cell_type": "markdown",
   "metadata": {},
   "source": [
    "print\n",
    "\n",
    "return\n",
    "\n",
    "yield"
   ]
  }
 ],
 "metadata": {
  "kernelspec": {
   "display_name": "Python 3.8.10 64-bit",
   "language": "python",
   "name": "python3"
  },
  "language_info": {
   "codemirror_mode": {
    "name": "ipython",
    "version": 3
   },
   "file_extension": ".py",
   "mimetype": "text/x-python",
   "name": "python",
   "nbconvert_exporter": "python",
   "pygments_lexer": "ipython3",
   "version": "3.8.10"
  },
  "orig_nbformat": 4,
  "vscode": {
   "interpreter": {
    "hash": "e7370f93d1d0cde622a1f8e1c04877d8463912d04d973331ad4851f04de6915a"
   }
  }
 },
 "nbformat": 4,
 "nbformat_minor": 2
}
