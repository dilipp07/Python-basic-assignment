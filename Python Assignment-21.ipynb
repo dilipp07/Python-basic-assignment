{
 "cells": [
  {
   "cell_type": "markdown",
   "metadata": {},
   "source": [
    "# 1. Add the current date to the text file today.txt as a string."
   ]
  },
  {
   "cell_type": "code",
   "execution_count": 2,
   "metadata": {},
   "outputs": [
    {
     "name": "stdout",
     "output_type": "stream",
     "text": [
      "25-05-2023\n"
     ]
    }
   ],
   "source": [
    "import datetime\n",
    "# Code to Add current date to the today.txt file\n",
    "file = open('today.txt','w')\n",
    "file.write(datetime.datetime.now().strftime(\"%d-%m-%Y\"))\n",
    "file.close()\n",
    "# Code to Read current date from today.txt file\n",
    "file = open('today.txt','r')\n",
    "print(file.read())\n",
    "file.close()"
   ]
  },
  {
   "cell_type": "markdown",
   "metadata": {},
   "source": [
    "# 2. Read the text file today.txt into the string today_string"
   ]
  },
  {
   "cell_type": "code",
   "execution_count": 3,
   "metadata": {},
   "outputs": [
    {
     "name": "stdout",
     "output_type": "stream",
     "text": [
      "25-05-2023\n"
     ]
    }
   ],
   "source": [
    "file = open('today.txt','r')\n",
    "today_string = file.read()\n",
    "print(today_string)"
   ]
  },
  {
   "cell_type": "markdown",
   "metadata": {},
   "source": [
    "# 3. Parse the date from today_string."
   ]
  },
  {
   "cell_type": "code",
   "execution_count": 4,
   "metadata": {},
   "outputs": [
    {
     "name": "stdout",
     "output_type": "stream",
     "text": [
      "2023-05-25 00:00:00\n"
     ]
    }
   ],
   "source": [
    "from datetime import datetime\n",
    "parsed_data = datetime.strptime(today_string, '%d-%m-%Y')\n",
    "print(parsed_data)"
   ]
  },
  {
   "cell_type": "markdown",
   "metadata": {},
   "source": [
    "# 4. List the files in your current directory"
   ]
  },
  {
   "cell_type": "code",
   "execution_count": 5,
   "metadata": {},
   "outputs": [
    {
     "name": "stdout",
     "output_type": "stream",
     "text": [
      "Python assignment-11.ipynb\n",
      "Python assignment-8.ipynb\n",
      "Python assignment-15.ipynb\n",
      "test.txt\n",
      "zoo.py\n",
      "Python assignment-3.ipynb\n",
      "Python assignment-6.ipynb\n",
      "__init__.py\n",
      "Python Assignment-21.ipynb\n",
      "Python assignment-4.ipynb\n",
      "Python assignment-20.ipynb\n",
      "Python assignment -1.ipynb\n",
      "Python assignment-19.ipynb\n",
      "Python assignment-16.ipynb\n",
      "Python assignment-18.ipynb\n",
      "Python assignment -5.ipynb\n",
      "Python assignment-14.ipynb\n",
      "Python assignment-13.ipynb\n",
      "Python assignment-10.ipynb\n",
      "books.db\n",
      "Python assignment-17.ipynb\n",
      "today.txt\n",
      "Python assignment-7.ipynb\n",
      "Python assignment -9.ipynb\n",
      "Python assignment-12.ipynb\n",
      "books.csv\n",
      "Python assignment -2.ipynb\n",
      "packed-refs\n",
      "HEAD\n",
      "index\n",
      "config\n",
      "description\n",
      "COMMIT_EDITMSG\n",
      "HEAD\n",
      "main\n",
      "HEAD\n",
      "main\n",
      "exclude\n",
      "5f643e9403f50dcf8566a3f3a831820138614a\n",
      "94d2b88901a33b7f7f51f244e8b8a252c03ee8\n",
      "e4ca592087729825d1e6219adb89bc17da1b59\n",
      "253789470db13b3b03104b115d49dd169ae9d7\n",
      "a414cef99c8f2a4510506b1066f9f17d569a03\n",
      "b8e4c39c5f5f11780ca35160739a532c07a636\n",
      "3b0c07a36a01c828180281b70ca7b5858d5905\n",
      "c8a83831e880f4fa80bcc4b24eb8a47bd85fd2\n",
      "9a57a0a75df6b7e268265b943e8808bb4deac4\n",
      "5feb0582a81b10f174e0f1703e39d1b3ddf02a\n",
      "9e4f08b0781cc23d8ba9f15c29ed9b22e15a42\n",
      "a4c04373260b86e5ac72abf7615a172606a802\n",
      "053bc2fab14759e504e98e8808638951235634\n",
      "59d8c37912312eb2a7a38097e5329532cf1630\n",
      "52f54e7dfa5effcdd7cb381a2789dfba2a3f67\n",
      "9074af2917bcc7f16239a666b2565c3880ba7c\n",
      "17c5851bf80a807180dd7ac7c5553621e0d476\n",
      "1a6ed6abf16aac9f78ad86c3b92ece516f7ef3\n",
      "b5400305c0d4bdae51a2a306d0d236f712f2bb\n",
      "87d98f84ec6f061cd3d2e6bea95eaf25366535\n",
      "e952544d3de5ae3804f21928d7de9bc1d4f252\n",
      "aed44618126c9c58b84a8fdb571c32eabb62e6\n",
      "723c1ec862db66335ef394643176aab0ed6eca\n",
      "03acda37fe804ae2f979f803d1e312ec3e1be0\n",
      "9de29bb2d1d6434b8b29ae775ad8c2e48c5391\n",
      "5cfb494484c78f902a7b3e0b703d9fef9757b1\n",
      "35333c6d675ae078bb54e02cc968a0924513cd\n",
      "106a84e47b892450aabf726efae8527d02feba\n",
      "7a03c544019a0e3978931fb1128792b66d1e6b\n",
      "b46bbf5662c5ed35e22af3bf5a871a95546f45\n",
      "e920f04ddeb167169a00a1c49f6cd417c7cc33\n",
      "08aba57e49395bc6a729aa388d8b9a3fe4eeea\n",
      "9d65eafe8be24bdd75c0cfdff3fe3c6343da69\n",
      "52cdff185816fea1d47f4d46fdaf459eb9e014\n",
      "24fbb94b417d7290a496fef6536e6fe31f4ca7\n",
      "bbdb4fef2b5656170b96fe15331e9abf7d59dd\n",
      "4e758a2e5863a6e24a3a220d7d33e8a38d2630\n",
      "f942b0230a2bb122bed87b5146d359573cff98\n",
      "218d8a7e06b69b5a6726cfab78830dbe6dfb3b\n",
      "8dd7d2a19538d155e5f503ba6dc555ec8c4cea\n",
      "1dd1bcdcc85be3a0ea91ad08d21f5b08d754bb\n",
      "8a1863917ed6bf3acb817b543e9982d678617d\n",
      "67e25a38d8b3036cd07cc61daa9287d1ab85c1\n",
      "2705ea81958d6d389fcbed5830eb35019a831b\n",
      "3c30adb9fb83bdef85404f85121ab545611bfd\n",
      "fbcf7f7d8ae2a4ee745e4dd93d6e4081e13577\n",
      "301f1ce457c5ca1726f94688f056205a62fad5\n",
      "4c6969cfe11d67b5efc8e6e0a76a049e6ab936\n",
      "10313cccb00ee0addabed89d20045375532c63\n",
      "5bb2719b0d0a320e38a5e7b5b47255ef9357c5\n",
      "9c943cfec22ecaa3cda904be19df36efdb9d6b\n",
      "899b0263d12a51eda37bde6fa7b4a4dc94d915\n",
      "81576d6852126be345904853517acc59002cb7\n",
      "5b964c55deddac46af458c9efa0319f6d1d4cf\n",
      "2f79e1416aa69b90e3b05ef07bede2c7fe724e\n",
      "217139b5428aed7f08c03229f7b0bc6dd492fc\n",
      "602ec90aea96bb00d164d0660232fc79ff3a0d\n",
      "afcb8f34f39d43bd5d941be8f84fda4f15c7f1\n",
      "6196a0b099c486625127e436f2eb1718bda072\n",
      "b96f1d55b4d9b074f860d5e598e4f9071e38e1\n",
      "8c84d9b0db673036f3d91385bd66fefd6b00a8\n",
      "pre-push.sample\n",
      "prepare-commit-msg.sample\n",
      "applypatch-msg.sample\n",
      "pre-applypatch.sample\n",
      "commit-msg.sample\n",
      "pre-rebase.sample\n",
      "pre-receive.sample\n",
      "update.sample\n",
      "fsmonitor-watchman.sample\n",
      "pre-merge-commit.sample\n",
      "pre-commit.sample\n",
      "post-update.sample\n",
      "main\n",
      "HEAD\n",
      "main\n",
      "zoo.cpython-38.pyc\n"
     ]
    }
   ],
   "source": [
    "import os\n",
    "for folders, subfolders, files in os.walk(os.getcwd()):\n",
    "    for file in files:\n",
    "        print(file)"
   ]
  },
  {
   "cell_type": "markdown",
   "metadata": {},
   "source": [
    "# 5. Create a list of all of the files in your parent directory (minimum five files should be available)."
   ]
  },
  {
   "cell_type": "code",
   "execution_count": 6,
   "metadata": {},
   "outputs": [
    {
     "data": {
      "text/plain": [
       "['Python assignment-11.ipynb',\n",
       " 'Python assignment-8.ipynb',\n",
       " 'Python assignment-15.ipynb',\n",
       " 'test.txt',\n",
       " 'zoo.py',\n",
       " 'Python assignment-3.ipynb',\n",
       " 'Python assignment-6.ipynb',\n",
       " '.git',\n",
       " '__init__.py',\n",
       " 'Python Assignment-21.ipynb',\n",
       " 'Python assignment-4.ipynb',\n",
       " 'Python assignment-20.ipynb',\n",
       " 'Python assignment -1.ipynb',\n",
       " 'Python assignment-19.ipynb',\n",
       " 'Python assignment-16.ipynb',\n",
       " 'Python assignment-18.ipynb',\n",
       " 'Python assignment -5.ipynb',\n",
       " 'Python assignment-14.ipynb',\n",
       " 'Python assignment-13.ipynb',\n",
       " 'Python assignment-10.ipynb',\n",
       " '__pycache__',\n",
       " 'books.db',\n",
       " 'Python assignment-17.ipynb',\n",
       " 'today.txt',\n",
       " 'Python assignment-7.ipynb',\n",
       " 'Python assignment -9.ipynb',\n",
       " 'Python assignment-12.ipynb',\n",
       " 'books.csv',\n",
       " 'Python assignment -2.ipynb']"
      ]
     },
     "execution_count": 6,
     "metadata": {},
     "output_type": "execute_result"
    }
   ],
   "source": [
    "import os \n",
    "os.listdir()"
   ]
  },
  {
   "cell_type": "markdown",
   "metadata": {},
   "source": [
    "# 6. Use multiprocessing to create three separate processes. Make each one wait a random number of seconds between one and five, print the current time, and then exit."
   ]
  },
  {
   "cell_type": "code",
   "execution_count": 8,
   "metadata": {},
   "outputs": [
    {
     "name": "stdout",
     "output_type": "stream",
     "text": [
      "Proc_one_Starttime -> 2023-05-25 21:32:52.388603\n",
      "Proc_two_Starttime -> 2023-05-25 21:32:52.393377\n",
      "Proc_three_Starttime -> 2023-05-25 21:32:52.399257\n",
      "Proc_three_Endtime -> 2023-05-25 21:32:54.407161\n",
      "Proc_two_Endtime -> 2023-05-25 21:32:55.402712\n",
      "Proc_one_Endtime -> 2023-05-25 21:32:57.396962\n"
     ]
    }
   ],
   "source": [
    "import multiprocessing\n",
    "import time \n",
    "import random\n",
    "import datetime\n",
    "\n",
    "def procOne():\n",
    "    print(f'Proc_one_Starttime -> {datetime.datetime.now()}')\n",
    "    time.sleep(random.randint(1,5))\n",
    "    print(f'Proc_one_Endtime -> {datetime.datetime.now()}')\n",
    "    \n",
    "def procTwo():\n",
    "    print(f'Proc_two_Starttime -> {datetime.datetime.now()}')\n",
    "    time.sleep(random.randint(1,5))\n",
    "    print(f'Proc_two_Endtime -> {datetime.datetime.now()}')\n",
    "\n",
    "def procThree():\n",
    "    print(f'Proc_three_Starttime -> {datetime.datetime.now()}')\n",
    "    time.sleep(random.randint(1,5))\n",
    "    print(f'Proc_three_Endtime -> {datetime.datetime.now()}')\n",
    "    \n",
    "if __name__ == \"__main__\":    \n",
    "    p1 = multiprocessing.Process(target=procOne)\n",
    "    p2 = multiprocessing.Process(target=procTwo)\n",
    "    p3 = multiprocessing.Process(target=procThree)\n",
    "\n",
    "    p1.start()\n",
    "    p2.start()\n",
    "    p3.start()\n",
    "\n",
    "    p1.join()\n",
    "    p2.join()\n",
    "    p3.join()"
   ]
  },
  {
   "cell_type": "markdown",
   "metadata": {},
   "source": [
    "# 7. Create a date object of your day of birth."
   ]
  },
  {
   "cell_type": "code",
   "execution_count": 9,
   "metadata": {},
   "outputs": [
    {
     "name": "stdout",
     "output_type": "stream",
     "text": [
      "2001-01-23 00:00:00 <class 'datetime.datetime'>\n"
     ]
    }
   ],
   "source": [
    "from datetime import datetime\n",
    "my_dob = datetime.strptime('23/01/2001','%d/%m/%Y')\n",
    "print(my_dob, type(my_dob))"
   ]
  },
  {
   "cell_type": "markdown",
   "metadata": {},
   "source": [
    "# 8. What day of the week was your day of birth?"
   ]
  },
  {
   "cell_type": "code",
   "execution_count": 10,
   "metadata": {},
   "outputs": [
    {
     "data": {
      "text/plain": [
       "'Tuesday'"
      ]
     },
     "execution_count": 10,
     "metadata": {},
     "output_type": "execute_result"
    }
   ],
   "source": [
    "from datetime import datetime\n",
    "my_dob = datetime(2001,1,23)\n",
    "my_dob.strftime(\"%A\")"
   ]
  },
  {
   "cell_type": "markdown",
   "metadata": {},
   "source": [
    "# 9. When will you be (or when were you) 10,000 days old?"
   ]
  },
  {
   "cell_type": "code",
   "execution_count": 12,
   "metadata": {},
   "outputs": [
    {
     "data": {
      "text/plain": [
       "datetime.datetime(2028, 6, 10, 0, 0)"
      ]
     },
     "execution_count": 12,
     "metadata": {},
     "output_type": "execute_result"
    }
   ],
   "source": [
    "from datetime import datetime, timedelta\n",
    "my_dob = datetime.strptime(\"23/01/2001\",'%d/%m/%Y')\n",
    "future_date = my_dob+timedelta(10000)\n",
    "future_date"
   ]
  }
 ],
 "metadata": {
  "kernelspec": {
   "display_name": "Python 3.8.10 64-bit",
   "language": "python",
   "name": "python3"
  },
  "language_info": {
   "codemirror_mode": {
    "name": "ipython",
    "version": 3
   },
   "file_extension": ".py",
   "mimetype": "text/x-python",
   "name": "python",
   "nbconvert_exporter": "python",
   "pygments_lexer": "ipython3",
   "version": "3.8.10"
  },
  "orig_nbformat": 4,
  "vscode": {
   "interpreter": {
    "hash": "e7370f93d1d0cde622a1f8e1c04877d8463912d04d973331ad4851f04de6915a"
   }
  }
 },
 "nbformat": 4,
 "nbformat_minor": 2
}
