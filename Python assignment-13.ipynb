{
 "cells": [
  {
   "cell_type": "markdown",
   "id": "c1568511",
   "metadata": {},
   "source": [
    "# 1. What advantages do Excel spreadsheets have over CSV spreadsheets?"
   ]
  },
  {
   "cell_type": "markdown",
   "id": "976a4def",
   "metadata": {},
   "source": [
    "Excel spreadsheets have several advantages over CSV (Comma-Separated Values) spreadsheets. Here are some key advantages:"
   ]
  },
  {
   "cell_type": "markdown",
   "id": "8f38fa14",
   "metadata": {},
   "source": [
    "Excel (XLS and XLSX) file formats are better for storing and analysing complex data.\n",
    "\n",
    "An Excel not only stores data but can also do operations on the data using macros, formulas etc\n",
    "\n",
    "CSV files are plain-text files, Does not contain formatting, formulas, macros, etc. It is also known as flat files"
   ]
  },
  {
   "cell_type": "markdown",
   "id": "d32739cd",
   "metadata": {},
   "source": [
    "# 2.What do you pass to csv.reader() and csv.writer() to create reader and writer objects?"
   ]
  },
  {
   "cell_type": "code",
   "execution_count": null,
   "id": "b13d037a",
   "metadata": {},
   "outputs": [],
   "source": [
    "import csv\n",
    "\n",
    "# Open the CSV file in read mode\n",
    "with open('data.csv', 'r') as file:\n",
    "    # Create a reader object\n",
    "    reader = csv.reader(file)\n",
    "    \n",
    "    # Now you can use the reader object to read data from the CSV file\n",
    "    for row in reader:\n",
    "        # Process each row of data\n",
    "        print(row)"
   ]
  },
  {
   "cell_type": "code",
   "execution_count": 4,
   "id": "ffdcff8d",
   "metadata": {},
   "outputs": [],
   "source": [
    "import csv\n",
    "\n",
    "# Open the CSV file in write mode\n",
    "with open('output.csv', 'w', newline='') as file:\n",
    "    # Create a writer object\n",
    "    writer = csv.writer(file)\n",
    "    \n",
    "    # Now you can use the writer object to write data to the CSV file\n",
    "    writer.writerow(['Name', 'Age', 'City'])  # Write a header row\n",
    "    writer.writerow(['John Doe', 30, 'New York'])  # Write a data row\n",
    "    writer.writerow(['Jane Smith', 25, 'London'])  # Write another data row"
   ]
  },
  {
   "cell_type": "markdown",
   "id": "3bd5f805",
   "metadata": {},
   "source": [
    "# 3. What modes do File objects for reader and writer objects need to be opened in?"
   ]
  },
  {
   "cell_type": "markdown",
   "id": "a68c68fe",
   "metadata": {},
   "source": [
    " For csv.reader(iterable_file_object), the file objects needed to be opened in read mode mode='r' Whereas for csv.writer(iterable_file_object) the file objects needed to be opened in write mode mode='w'"
   ]
  },
  {
   "cell_type": "markdown",
   "id": "9646d52d",
   "metadata": {},
   "source": [
    "# 4. What method takes a list argument and writes it to a CSV file?"
   ]
  },
  {
   "cell_type": "markdown",
   "id": "3d240514",
   "metadata": {},
   "source": [
    " csv.writer class provides two methods for writing to CSV. They are writerow() and writerows(). writerow() method writes a single row at a time. Whereas writerows() method is used to write multiple rows at a time"
   ]
  },
  {
   "cell_type": "markdown",
   "id": "715aa7af",
   "metadata": {},
   "source": [
    "# 5. What do the keyword arguments delimiter and line terminator do?"
   ]
  },
  {
   "cell_type": "markdown",
   "id": "76102c31",
   "metadata": {},
   "source": [
    "\n",
    "The keyword arguments delimiter and lineterminator are used in the csv.writer() function of the csv module in Python. They control the formatting of the CSV file during writing."
   ]
  },
  {
   "cell_type": "markdown",
   "id": "3f666b0d",
   "metadata": {},
   "source": [
    "delimiter argument:\n",
    "The delimiter argument specifies the character or string used to separate fields (columns) within a row in the CSV file. By default, the delimiter is a comma (,). However, you can change it to any other character or string that suits your needs"
   ]
  },
  {
   "cell_type": "markdown",
   "id": "2ccd2aeb",
   "metadata": {},
   "source": [
    "lineterminator argument:\n",
    "The lineterminator argument determines the character or string used to terminate each row in the CSV file. By default, the line terminator is the platform-specific line ending (\\n on Unix/Linux, \\r\\n on Windows). You can customize the line terminator if needed"
   ]
  },
  {
   "cell_type": "markdown",
   "id": "e3fdee7a",
   "metadata": {},
   "source": [
    "# 6. What function takes a string of JSON data and returns a Python data structure?"
   ]
  },
  {
   "cell_type": "markdown",
   "id": "1822e27a",
   "metadata": {},
   "source": [
    "The json.loads() function in Python is used to convert a string of JSON data into a Python data structure. The function name \"loads\" stands for \"load string.\""
   ]
  },
  {
   "cell_type": "markdown",
   "id": "16cc2eb4",
   "metadata": {},
   "source": [
    "# 7. What function takes a Python data structure and returns a string of JSON data?"
   ]
  },
  {
   "cell_type": "markdown",
   "id": "4a1b204d",
   "metadata": {},
   "source": [
    "The 'json.dumps()' function in Python is used to convert a Python data structure into a string of JSON data. The function name \"dumps\" stands for \"dump string.\""
   ]
  }
 ],
 "metadata": {
  "kernelspec": {
   "display_name": "Python 3 (ipykernel)",
   "language": "python",
   "name": "python3"
  },
  "language_info": {
   "codemirror_mode": {
    "name": "ipython",
    "version": 3
   },
   "file_extension": ".py",
   "mimetype": "text/x-python",
   "name": "python",
   "nbconvert_exporter": "python",
   "pygments_lexer": "ipython3",
   "version": "3.10.9"
  }
 },
 "nbformat": 4,
 "nbformat_minor": 5
}
