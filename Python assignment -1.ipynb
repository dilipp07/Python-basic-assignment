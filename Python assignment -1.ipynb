{
 "cells": [
  {
   "cell_type": "markdown",
   "id": "8574e27d",
   "metadata": {},
   "source": [
    "# 1. In the below elements which of them are values or an expression? eg:- values can be integer or string and expressions will be mathematical operators.\n",
    "\n"
   ]
  },
  {
   "cell_type": "markdown",
   "id": "cdacc82f",
   "metadata": {},
   "source": [
    "# * , 'hello' ,-87.8 , -, /, +, 6\n",
    "\n"
   ]
  },
  {
   "cell_type": "markdown",
   "id": "3520a2f8",
   "metadata": {},
   "source": [
    "#### Answer"
   ]
  },
  {
   "cell_type": "markdown",
   "id": "32c20ff5",
   "metadata": {},
   "source": [
    "Operators: *,-,/,+\n",
    "\n",
    "\n",
    "Expressions: 'hello', 87.8, 6"
   ]
  },
  {
   "cell_type": "markdown",
   "id": "e2ed9d2f",
   "metadata": {},
   "source": [
    "# 2. What is the difference between string and variable?"
   ]
  },
  {
   "cell_type": "markdown",
   "id": "613bcac9",
   "metadata": {},
   "source": [
    "#### Answer"
   ]
  },
  {
   "cell_type": "markdown",
   "id": "f802c265",
   "metadata": {},
   "source": [
    "A Variable is used to store of information so it is a memory location, and a String is a type of information you would store in a Variable. A String is a group of characters or a single character usually enclosed in Double quotes \" \" or single quotes ' '"
   ]
  },
  {
   "cell_type": "markdown",
   "id": "5f0bccf0",
   "metadata": {},
   "source": [
    "# 3. Describe three different data types."
   ]
  },
  {
   "cell_type": "markdown",
   "id": "af15a0aa",
   "metadata": {},
   "source": [
    "#### ANSWER"
   ]
  },
  {
   "cell_type": "markdown",
   "id": "b4951e18",
   "metadata": {},
   "source": [
    "Integer: The integer data type in Python represents whole numbers (positive, negative, or zero) without any decimal points. For example, 5, -10, 0 are all integers.\n",
    "\n",
    "Float: The float data type in Python represents numbers with decimal points. For example, 3.14, -2.5, and 0.0 are all floats.\n",
    "\n",
    "String: The string data type in Python represents a sequence of characters. Strings are enclosed in single or double quotes. For example, \"hello\", 'world', and \"123\" are all strings. "
   ]
  },
  {
   "cell_type": "markdown",
   "id": "eff30bab",
   "metadata": {},
   "source": [
    "\n",
    "# 4. What is an expression made up of? What do all expressions do?"
   ]
  },
  {
   "cell_type": "markdown",
   "id": "9ed6ca9a",
   "metadata": {},
   "source": [
    "#### ANSWER\n"
   ]
  },
  {
   "cell_type": "markdown",
   "id": "9439d12b",
   "metadata": {},
   "source": [
    "\n",
    "In programming, an expression is made up of variables, constants, and operators that are combined in a meaningful way to produce a value. An expression can be as simple as a single variable or constant, or it can be more complex, involving multiple variables and operators.\n",
    "\n",
    "All expressions in Python (and most programming languages) evaluate to a value. The value can be a number, a string, a boolean (True or False), or another data type. For example, the expression \"2 + 3\" evaluates to 5, and the expression \"5 > 3\" evaluates to True."
   ]
  },
  {
   "cell_type": "markdown",
   "id": "14584003",
   "metadata": {},
   "source": [
    "# 5. This assignment statements, like spam = 10. What is the difference between an expression and a statement?"
   ]
  },
  {
   "cell_type": "markdown",
   "id": "8e8b6e49",
   "metadata": {},
   "source": [
    "#### ANSWER"
   ]
  },
  {
   "cell_type": "markdown",
   "id": "621bbe5d",
   "metadata": {},
   "source": [
    "The main difference between an expression and a statement is that an expression produces a value, while a statement performs an action. While expressions can be used as a part of a statement, they cannot stand alone as a statement."
   ]
  },
  {
   "cell_type": "markdown",
   "id": "16f83c03",
   "metadata": {},
   "source": [
    "# 6. After running the following code, what does the variable bacon contain?bacon = 22 bacon + 1"
   ]
  },
  {
   "cell_type": "markdown",
   "id": "e9fe37b5",
   "metadata": {},
   "source": [
    "#### ANSWER"
   ]
  },
  {
   "cell_type": "code",
   "execution_count": 2,
   "id": "88cd94df",
   "metadata": {},
   "outputs": [
    {
     "name": "stdout",
     "output_type": "stream",
     "text": [
      "22\n"
     ]
    }
   ],
   "source": [
    "bacon=22 \n",
    "bacon+1\n",
    "print(bacon)"
   ]
  },
  {
   "cell_type": "markdown",
   "id": "84511d2c",
   "metadata": {},
   "source": [
    "The variable bacon contains 22"
   ]
  },
  {
   "cell_type": "markdown",
   "id": "56b8f519",
   "metadata": {},
   "source": [
    "# 7. What should the values of the following two terms be? 'spam' + 'spamspam' & 'spam' * 3"
   ]
  },
  {
   "cell_type": "markdown",
   "id": "6371457a",
   "metadata": {},
   "source": [
    "#### ANSWER"
   ]
  },
  {
   "cell_type": "code",
   "execution_count": 3,
   "id": "bf0a4144",
   "metadata": {},
   "outputs": [
    {
     "name": "stdout",
     "output_type": "stream",
     "text": [
      "spamspamspam\n",
      "spamspamspam\n"
     ]
    }
   ],
   "source": [
    "k= 'spam'+'spamspam'\n",
    "l='spam'*3\n",
    "print(k)\n",
    "print(l)"
   ]
  },
  {
   "cell_type": "markdown",
   "id": "44d25fcb",
   "metadata": {},
   "source": [
    "Both expressions evaluate to the string 'spamspamspam' Where as the first expression follows String Concatentation and the second expression follows String Multiplication"
   ]
  },
  {
   "cell_type": "markdown",
   "id": "dd727b61",
   "metadata": {},
   "source": [
    "# 8. Why is eggs a valid variable name while 100 is invalid?"
   ]
  },
  {
   "cell_type": "markdown",
   "id": "033d1078",
   "metadata": {},
   "source": [
    "#### ANSWER"
   ]
  },
  {
   "cell_type": "markdown",
   "id": "a0b662de",
   "metadata": {},
   "source": [
    "\n",
    "In Python, variable names must follow certain rules. A variable name can consist of letters (both uppercase and lowercase), numbers, and underscores, but it cannot start with a number. Therefore, eggs is a valid variable name because it starts with a letter, while 100 is an invalid variable name because it starts with a number."
   ]
  },
  {
   "cell_type": "markdown",
   "id": "c3271129",
   "metadata": {},
   "source": [
    "# 9. What three functions can be used to get the integer, floating-point number, or string version of a value?"
   ]
  },
  {
   "cell_type": "markdown",
   "id": "c4447548",
   "metadata": {},
   "source": [
    "#### ANSWER"
   ]
  },
  {
   "cell_type": "markdown",
   "id": "a9ba39c9",
   "metadata": {},
   "source": [
    " The int(),float(),and str() functions will evaluate to the integer,floating-point number,string version of the value passed to them."
   ]
  },
  {
   "cell_type": "code",
   "execution_count": 4,
   "id": "f35a5098",
   "metadata": {},
   "outputs": [
    {
     "name": "stdout",
     "output_type": "stream",
     "text": [
      "int(100.0) --- 10\n",
      "float(100) ---  10.0\n",
      "str(100) ---  10\n"
     ]
    }
   ],
   "source": [
    "# Examples:\n",
    "print('int(100.0) ---',int(10.0)) # int() function converts given input to int\n",
    "print('float(100) --- ',float(10)) # float() function converts given input to float\n",
    "print('str(100) --- ',str(10)) # str() function converts given input to string"
   ]
  },
  {
   "cell_type": "markdown",
   "id": "4f97c5dc",
   "metadata": {},
   "source": [
    "# 10. Why does this expression cause an error? How can you fix it? 'I have eaten'+ 99 +'burritos'"
   ]
  },
  {
   "cell_type": "markdown",
   "id": "cd032491",
   "metadata": {},
   "source": [
    "#### ANSWER"
   ]
  },
  {
   "cell_type": "markdown",
   "id": "85439e2a",
   "metadata": {},
   "source": [
    "This cause of error is 99.because 99 is not a string. 99 must be typecasted to a string to fix this error. the correct way is:"
   ]
  },
  {
   "cell_type": "code",
   "execution_count": 7,
   "id": "46de8568",
   "metadata": {},
   "outputs": [
    {
     "data": {
      "text/plain": [
       "'I have eaten 99 burritos'"
      ]
     },
     "execution_count": 7,
     "metadata": {},
     "output_type": "execute_result"
    }
   ],
   "source": [
    "'I have eaten '+ str(99)+ ' burritos'"
   ]
  },
  {
   "cell_type": "code",
   "execution_count": 8,
   "id": "b8081de5",
   "metadata": {},
   "outputs": [
    {
     "data": {
      "text/plain": [
       "'I have eaten 99 burritos'"
      ]
     },
     "execution_count": 8,
     "metadata": {},
     "output_type": "execute_result"
    }
   ],
   "source": [
    "'I have eaten '+ '99'+ ' burritos'"
   ]
  },
  {
   "cell_type": "code",
   "execution_count": null,
   "id": "bfa87ecd",
   "metadata": {},
   "outputs": [],
   "source": []
  }
 ],
 "metadata": {
  "kernelspec": {
   "display_name": "Python 3 (ipykernel)",
   "language": "python",
   "name": "python3"
  },
  "language_info": {
   "codemirror_mode": {
    "name": "ipython",
    "version": 3
   },
   "file_extension": ".py",
   "mimetype": "text/x-python",
   "name": "python",
   "nbconvert_exporter": "python",
   "pygments_lexer": "ipython3",
   "version": "3.10.9"
  }
 },
 "nbformat": 4,
 "nbformat_minor": 5
}
