{
 "cells": [
  {
   "cell_type": "markdown",
   "id": "df501255",
   "metadata": {},
   "source": [
    "# 1.What does an empty dictionary's code look like?"
   ]
  },
  {
   "cell_type": "markdown",
   "id": "6a27d6de",
   "metadata": {},
   "source": [
    " An empty dictionary is often represented by two empty curly brackets.\n",
    " \n",
    " a={}"
   ]
  },
  {
   "cell_type": "markdown",
   "id": "49cc1291",
   "metadata": {},
   "source": [
    "# 2.what is the value of dictionary value with key 'foo' and the value 42 ?"
   ]
  },
  {
   "cell_type": "markdown",
   "id": "9a488e9c",
   "metadata": {},
   "source": [
    "{'foo':42}"
   ]
  },
  {
   "cell_type": "markdown",
   "id": "c885cb96",
   "metadata": {},
   "source": [
    "# 3.What is the most significant distinction between a dictionary and a list?"
   ]
  },
  {
   "cell_type": "markdown",
   "id": "44fdbe6f",
   "metadata": {},
   "source": [
    "Dictionaries are represented by {} where as listed are represented by []\n",
    "The Items stored in a dictionary are Unordered , while the items in a list are ordered"
   ]
  },
  {
   "cell_type": "markdown",
   "id": "382879c6",
   "metadata": {},
   "source": [
    "# 4.What happens if you try to access spam ['foo'] if spam is {'bar':100} ?"
   ]
  },
  {
   "cell_type": "markdown",
   "id": "5043c145",
   "metadata": {},
   "source": [
    "we will get a keyError KeyError: 'foo'"
   ]
  },
  {
   "cell_type": "code",
   "execution_count": 1,
   "id": "7f70cda6",
   "metadata": {},
   "outputs": [
    {
     "ename": "KeyError",
     "evalue": "'foo'",
     "output_type": "error",
     "traceback": [
      "\u001b[1;31m---------------------------------------------------------------------------\u001b[0m",
      "\u001b[1;31mKeyError\u001b[0m                                  Traceback (most recent call last)",
      "Cell \u001b[1;32mIn[1], line 2\u001b[0m\n\u001b[0;32m      1\u001b[0m spam\u001b[38;5;241m=\u001b[39m{\u001b[38;5;124m'\u001b[39m\u001b[38;5;124mbar\u001b[39m\u001b[38;5;124m'\u001b[39m:\u001b[38;5;241m100\u001b[39m}\n\u001b[1;32m----> 2\u001b[0m \u001b[43mspam\u001b[49m\u001b[43m \u001b[49m\u001b[43m[\u001b[49m\u001b[38;5;124;43m'\u001b[39;49m\u001b[38;5;124;43mfoo\u001b[39;49m\u001b[38;5;124;43m'\u001b[39;49m\u001b[43m]\u001b[49m\n",
      "\u001b[1;31mKeyError\u001b[0m: 'foo'"
     ]
    }
   ],
   "source": [
    "spam={'bar':100}\n",
    "spam ['foo']"
   ]
  },
  {
   "cell_type": "markdown",
   "id": "cce3c8a9",
   "metadata": {},
   "source": [
    "# 5.If a dictionary is stored in spam,what is the difference between the expressions 'cat' in spam and 'cat' in spam.keys() ?"
   ]
  },
  {
   "cell_type": "markdown",
   "id": "1266d51f",
   "metadata": {},
   "source": [
    "There is no difference . The operator checks whether a value exits as a key in the dictionary or not"
   ]
  },
  {
   "cell_type": "markdown",
   "id": "3b27b1ca",
   "metadata": {},
   "source": [
    "# 6.if a dictionary is stored in spam,what is the difference between the expressions 'cat' in spam and 'cat' in spam.values() ?"
   ]
  },
  {
   "cell_type": "markdown",
   "id": "3d74faf4",
   "metadata": {},
   "source": [
    "'cat' in spam checks whether there is a 'cat' key in the dictionary, while 'cat' in spam.values() checks whether there is a value 'cat' for one of the keys in spam."
   ]
  },
  {
   "cell_type": "markdown",
   "id": "f0d064a0",
   "metadata": {},
   "source": [
    "# 7.what is a shortcut for the following code ? \n",
    "# if 'color' not in spam: spam['color'] ='black'\n",
    "\n"
   ]
  },
  {
   "cell_type": "markdown",
   "id": "90d8925a",
   "metadata": {},
   "source": [
    "spam.setdefault('color','black')"
   ]
  },
  {
   "cell_type": "markdown",
   "id": "2303692f",
   "metadata": {},
   "source": [
    "# 8.How do you 'pretty print' dictionary values using which modules and function ?"
   ]
  },
  {
   "cell_type": "markdown",
   "id": "ae0bc4ed",
   "metadata": {},
   "source": [
    "we can pretty print a dictionary using three functions\n",
    "\n",
    "by using pprint() function\n",
    "\n",
    "by using dumps() method of json module \n",
    "\n",
    "by using dumps() method of yaml module"
   ]
  },
  {
   "cell_type": "code",
   "execution_count": 6,
   "id": "164587c1",
   "metadata": {},
   "outputs": [
    {
     "name": "stdout",
     "output_type": "stream",
     "text": [
      "[{'name': 'dilip', 'age': 22, 'occupation': 'student', 'address': 'odisha'}, {'name': 'dilip', 'age': 22, 'occupation': 'student', 'address': 'odisha'}, {'name': 'dilip', 'age': 22, 'occupation': 'student', 'address': 'odisha'}, {'name': 'dilip', 'age': 22, 'occupation': 'student', 'address': 'odisha'}, {'name': 'dilip', 'age': 22, 'occupation': 'student', 'address': 'odisha'}]\n",
      ".............................................................................................................................\n",
      "print using pprint()function\n",
      "[{'address': 'odisha', 'age': 22, 'name': 'dilip', 'occupation': 'student'},\n",
      " {'address': 'odisha', 'age': 22, 'name': 'dilip', 'occupation': 'student'},\n",
      " {'address': 'odisha', 'age': 22, 'name': 'dilip', 'occupation': 'student'},\n",
      " {'address': 'odisha', 'age': 22, 'name': 'dilip', 'occupation': 'student'},\n",
      " {'address': 'odisha', 'age': 22, 'name': 'dilip', 'occupation': 'student'}]\n",
      "....................................................................................................\n",
      "print using dumps()function\n",
      "[\n",
      "     {\n",
      "          \"name\": \"dilip\",\n",
      "          \"age\": 22,\n",
      "          \"occupation\": \"student\",\n",
      "          \"address\": \"odisha\"\n",
      "     },\n",
      "     {\n",
      "          \"name\": \"dilip\",\n",
      "          \"age\": 22,\n",
      "          \"occupation\": \"student\",\n",
      "          \"address\": \"odisha\"\n",
      "     },\n",
      "     {\n",
      "          \"name\": \"dilip\",\n",
      "          \"age\": 22,\n",
      "          \"occupation\": \"student\",\n",
      "          \"address\": \"odisha\"\n",
      "     },\n",
      "     {\n",
      "          \"name\": \"dilip\",\n",
      "          \"age\": 22,\n",
      "          \"occupation\": \"student\",\n",
      "          \"address\": \"odisha\"\n",
      "     },\n",
      "     {\n",
      "          \"name\": \"dilip\",\n",
      "          \"age\": 22,\n",
      "          \"occupation\": \"student\",\n",
      "          \"address\": \"odisha\"\n",
      "     }\n",
      "]\n",
      "....................................................................................................\n",
      "print using dump()function\n",
      "- address: odisha\n",
      "  age: 22\n",
      "  name: dilip\n",
      "  occupation: student\n",
      "- address: odisha\n",
      "  age: 22\n",
      "  name: dilip\n",
      "  occupation: student\n",
      "- address: odisha\n",
      "  age: 22\n",
      "  name: dilip\n",
      "  occupation: student\n",
      "- address: odisha\n",
      "  age: 22\n",
      "  name: dilip\n",
      "  occupation: student\n",
      "- address: odisha\n",
      "  age: 22\n",
      "  name: dilip\n",
      "  occupation: student\n",
      "\n"
     ]
    }
   ],
   "source": [
    "import pprint\n",
    "import json\n",
    "import yaml\n",
    "d=[\n",
    "    {'name':'dilip','age':22,'occupation':\"student\",'address':'odisha'},\n",
    "    {'name':'dilip','age':22,'occupation':\"student\",'address':'odisha'},\n",
    "    {'name':'dilip','age':22,'occupation':\"student\",'address':'odisha'},\n",
    "    {'name':'dilip','age':22,'occupation':\"student\",'address':'odisha'},\n",
    "    {'name':'dilip','age':22,'occupation':\"student\",'address':'odisha'}\n",
    "]\n",
    "dumps = json.dumps(d, indent=5)\n",
    "dump = yaml.dump(d)\n",
    "print(d)\n",
    "\n",
    "print('.'*125)\n",
    "\n",
    "print('print using pprint()function')\n",
    "\n",
    "pprint.pprint(d)\n",
    "\n",
    "print('.'*100)\n",
    "\n",
    "print('print using dumps()function')\n",
    "\n",
    "print(dumps)\n",
    "\n",
    "print('.'*100)\n",
    "\n",
    "print('print using dump()function')\n",
    "\n",
    "print(dump)\n",
    "\n"
   ]
  },
  {
   "cell_type": "code",
   "execution_count": null,
   "id": "26ee48d4",
   "metadata": {},
   "outputs": [],
   "source": []
  }
 ],
 "metadata": {
  "kernelspec": {
   "display_name": "Python 3 (ipykernel)",
   "language": "python",
   "name": "python3"
  },
  "language_info": {
   "codemirror_mode": {
    "name": "ipython",
    "version": 3
   },
   "file_extension": ".py",
   "mimetype": "text/x-python",
   "name": "python",
   "nbconvert_exporter": "python",
   "pygments_lexer": "ipython3",
   "version": "3.10.9"
  }
 },
 "nbformat": 4,
 "nbformat_minor": 5
}
