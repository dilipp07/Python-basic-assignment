{
 "cells": [
  {
   "cell_type": "markdown",
   "id": "c4c8efac",
   "metadata": {},
   "source": [
    "# 1.What are Escape characters, and how do you use them ?"
   ]
  },
  {
   "cell_type": "markdown",
   "id": "22f2ad4f",
   "metadata": {},
   "source": [
    "Escape characters represent characters in string values that would otherwise be difficult or impossible to type into code. we can use the backslash character to escape a single character or symbol"
   ]
  },
  {
   "cell_type": "markdown",
   "id": "b8d9e74e",
   "metadata": {},
   "source": [
    "# 2.What do the escape characters n and t stand for ?"
   ]
  },
  {
   "cell_type": "markdown",
   "id": "18b940f3",
   "metadata": {},
   "source": [
    "\\n is a newline, \\t is a tab"
   ]
  },
  {
   "cell_type": "markdown",
   "id": "60734371",
   "metadata": {},
   "source": [
    "# 3.What is the way to include backslash character in a string"
   ]
  },
  {
   "cell_type": "markdown",
   "id": "fbc1a918",
   "metadata": {},
   "source": [
    "The \\\\\\ escape character will represent the backslash character in a string"
   ]
  },
  {
   "cell_type": "markdown",
   "id": "f76afc27",
   "metadata": {},
   "source": [
    "# 4.The string \"Howl's Moving Castle\" is a correct value. Why isn't the single quote character in the word Howl's not escaped a problem ?"
   ]
  },
  {
   "cell_type": "markdown",
   "id": "722cfb9e",
   "metadata": {},
   "source": [
    "The string \"Howl's Moving Castle\" escaped the problem because it is wrapped inside double quotes. If its wrapped inside single quotes then we have to use escape character \\\\' to show single quote in the final output"
   ]
  },
  {
   "cell_type": "markdown",
   "id": "01c305d9",
   "metadata": {},
   "source": [
    "# 5.How do you write a string of newlines if you don't want to use the n character?"
   ]
  },
  {
   "cell_type": "markdown",
   "id": "f4492632",
   "metadata": {},
   "source": [
    "Multiline string allow you to use newlines in string without the \\n escape character"
   ]
  },
  {
   "cell_type": "code",
   "execution_count": 1,
   "id": "e10e2474",
   "metadata": {},
   "outputs": [
    {
     "name": "stdout",
     "output_type": "stream",
     "text": [
      "Hello\n",
      "world\n"
     ]
    }
   ],
   "source": [
    "# Example:\n",
    "a = '''Hello\n",
    "world'''\n",
    "print(a)"
   ]
  },
  {
   "cell_type": "markdown",
   "id": "3e0b2944",
   "metadata": {},
   "source": [
    "# 6.What are the values of the given expressions ?"
   ]
  },
  {
   "cell_type": "markdown",
   "id": "d078f892",
   "metadata": {},
   "source": [
    "# 'Hello, world!'[1]\n",
    "# 'Hello, world!'[0:5]\n",
    "# 'Hello, world!'[:5]\n",
    "# 'Hello, world!'[3:]"
   ]
  },
  {
   "cell_type": "markdown",
   "id": "e2de32d7",
   "metadata": {},
   "source": [
    "The values for the given expressions are:\n",
    "\n",
    "'Hello, world!'[1] ----- 'e'\n",
    "\n",
    "'Hello, world!'[0:5] ----- 'Hello'\n",
    "\n",
    "'Hello, world!'[:5] ------ 'Hello'\n",
    "\n",
    "'Hello, world!'[3:] ------ 'lo, world!'"
   ]
  },
  {
   "cell_type": "markdown",
   "id": "879b5859",
   "metadata": {},
   "source": [
    "# 7.What are the values of the following expressions ?"
   ]
  },
  {
   "cell_type": "markdown",
   "id": "9da20b21",
   "metadata": {},
   "source": [
    "# 'Hello'.upper()\n",
    "# 'Hello'.upper().isupper()\n",
    "# 'Hello'.upper().lower()"
   ]
  },
  {
   "cell_type": "code",
   "execution_count": 2,
   "id": "9ce21a3b",
   "metadata": {},
   "outputs": [
    {
     "data": {
      "text/plain": [
       "'HELLO'"
      ]
     },
     "execution_count": 2,
     "metadata": {},
     "output_type": "execute_result"
    }
   ],
   "source": [
    "'Hello'.upper()"
   ]
  },
  {
   "cell_type": "code",
   "execution_count": 3,
   "id": "13191a6f",
   "metadata": {},
   "outputs": [
    {
     "data": {
      "text/plain": [
       "True"
      ]
     },
     "execution_count": 3,
     "metadata": {},
     "output_type": "execute_result"
    }
   ],
   "source": [
    "'Hello'.upper().isupper()"
   ]
  },
  {
   "cell_type": "code",
   "execution_count": 5,
   "id": "dc50f8d3",
   "metadata": {},
   "outputs": [
    {
     "data": {
      "text/plain": [
       "'hello'"
      ]
     },
     "execution_count": 5,
     "metadata": {},
     "output_type": "execute_result"
    }
   ],
   "source": [
    "'Hello'.upper().lower()"
   ]
  },
  {
   "cell_type": "markdown",
   "id": "765fdcc2",
   "metadata": {},
   "source": [
    "# 8.What are the values of the following expressions ?"
   ]
  },
  {
   "cell_type": "markdown",
   "id": "e17eb0e4",
   "metadata": {},
   "source": [
    "# 'Remember, remember, the fifith of July.'.split()\n",
    "# -'.join('There can only one'.split())"
   ]
  },
  {
   "cell_type": "code",
   "execution_count": 6,
   "id": "544f7264",
   "metadata": {},
   "outputs": [
    {
     "data": {
      "text/plain": [
       "['Remember,', 'remember,', 'the', 'fifith', 'of', 'July.']"
      ]
     },
     "execution_count": 6,
     "metadata": {},
     "output_type": "execute_result"
    }
   ],
   "source": [
    "'Remember, remember, the fifith of July.'.split()"
   ]
  },
  {
   "cell_type": "code",
   "execution_count": 7,
   "id": "39b3c86c",
   "metadata": {},
   "outputs": [
    {
     "data": {
      "text/plain": [
       "'There-can-only-one'"
      ]
     },
     "execution_count": 7,
     "metadata": {},
     "output_type": "execute_result"
    }
   ],
   "source": [
    "'-'.join('There can only one'.split()) "
   ]
  },
  {
   "cell_type": "markdown",
   "id": "ed40f512",
   "metadata": {},
   "source": [
    "# 9.What are the methods for right-justifying, left-justifying and centering string ?"
   ]
  },
  {
   "cell_type": "markdown",
   "id": "be5c6604",
   "metadata": {},
   "source": [
    "The rjust(),ljust(),center() string methods, respectively"
   ]
  },
  {
   "cell_type": "markdown",
   "id": "f94644f2",
   "metadata": {},
   "source": [
    "# 10.What is the best way to remove whitespace characters from the start orend ?"
   ]
  },
  {
   "cell_type": "markdown",
   "id": "e343bdbe",
   "metadata": {},
   "source": [
    "The lstrip() and rstrip() methods remove whitesapce characters from the left and right ends of a string respectively"
   ]
  },
  {
   "cell_type": "code",
   "execution_count": null,
   "id": "82a2eb05",
   "metadata": {},
   "outputs": [],
   "source": []
  }
 ],
 "metadata": {
  "kernelspec": {
   "display_name": "Python 3 (ipykernel)",
   "language": "python",
   "name": "python3"
  },
  "language_info": {
   "codemirror_mode": {
    "name": "ipython",
    "version": 3
   },
   "file_extension": ".py",
   "mimetype": "text/x-python",
   "name": "python",
   "nbconvert_exporter": "python",
   "pygments_lexer": "ipython3",
   "version": "3.10.9"
  }
 },
 "nbformat": 4,
 "nbformat_minor": 5
}
